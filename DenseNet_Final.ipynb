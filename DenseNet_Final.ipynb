{
 "cells": [
  {
   "cell_type": "code",
   "execution_count": 1,
   "id": "8fd132c9",
   "metadata": {
    "colab": {
     "base_uri": "https://localhost:8080/"
    },
    "executionInfo": {
     "elapsed": 13580,
     "status": "ok",
     "timestamp": 1753006129338,
     "user": {
      "displayName": "Lee Hetherington",
      "userId": "17699086544046018815"
     },
     "user_tz": -60
    },
    "id": "8fd132c9",
    "outputId": "3c120e60-baa3-44b5-d8a2-23f7770458cf",
    "scrolled": true
   },
   "outputs": [
    {
     "ename": "ImportError",
     "evalue": "Error importing numpy: you should not try to import numpy from\n        its source directory; please exit the numpy source tree, and relaunch\n        your python interpreter from there.",
     "output_type": "error",
     "traceback": [
      "\u001b[0;31m---------------------------------------------------------------------------\u001b[0m",
      "\u001b[0;31mImportError\u001b[0m                               Traceback (most recent call last)",
      "File \u001b[0;32m~/Library/Python/3.9/lib/python/site-packages/numpy/core/__init__.py:24\u001b[0m\n\u001b[1;32m     23\u001b[0m \u001b[38;5;28;01mtry\u001b[39;00m:\n\u001b[0;32m---> 24\u001b[0m     \u001b[38;5;28;01mfrom\u001b[39;00m\u001b[38;5;250m \u001b[39m\u001b[38;5;21;01m.\u001b[39;00m\u001b[38;5;250m \u001b[39m\u001b[38;5;28;01mimport\u001b[39;00m multiarray\n\u001b[1;32m     25\u001b[0m \u001b[38;5;28;01mexcept\u001b[39;00m \u001b[38;5;167;01mImportError\u001b[39;00m \u001b[38;5;28;01mas\u001b[39;00m exc:\n",
      "File \u001b[0;32m~/Library/Python/3.9/lib/python/site-packages/numpy/core/multiarray.py:10\u001b[0m\n\u001b[1;32m      9\u001b[0m \u001b[38;5;28;01mimport\u001b[39;00m\u001b[38;5;250m \u001b[39m\u001b[38;5;21;01mfunctools\u001b[39;00m\n\u001b[0;32m---> 10\u001b[0m \u001b[38;5;28;01mfrom\u001b[39;00m\u001b[38;5;250m \u001b[39m\u001b[38;5;21;01m.\u001b[39;00m\u001b[38;5;250m \u001b[39m\u001b[38;5;28;01mimport\u001b[39;00m overrides\n\u001b[1;32m     11\u001b[0m \u001b[38;5;28;01mfrom\u001b[39;00m\u001b[38;5;250m \u001b[39m\u001b[38;5;21;01m.\u001b[39;00m\u001b[38;5;250m \u001b[39m\u001b[38;5;28;01mimport\u001b[39;00m _multiarray_umath\n",
      "File \u001b[0;32m~/Library/Python/3.9/lib/python/site-packages/numpy/core/overrides.py:8\u001b[0m\n\u001b[1;32m      7\u001b[0m \u001b[38;5;28;01mfrom\u001b[39;00m\u001b[38;5;250m \u001b[39m\u001b[38;5;21;01m.\u001b[39;00m\u001b[38;5;21;01m.\u001b[39;00m\u001b[38;5;21;01m_utils\u001b[39;00m\u001b[38;5;21;01m.\u001b[39;00m\u001b[38;5;21;01m_inspect\u001b[39;00m\u001b[38;5;250m \u001b[39m\u001b[38;5;28;01mimport\u001b[39;00m getargspec\n\u001b[0;32m----> 8\u001b[0m \u001b[38;5;28;01mfrom\u001b[39;00m\u001b[38;5;250m \u001b[39m\u001b[38;5;21;01mnumpy\u001b[39;00m\u001b[38;5;21;01m.\u001b[39;00m\u001b[38;5;21;01mcore\u001b[39;00m\u001b[38;5;21;01m.\u001b[39;00m\u001b[38;5;21;01m_multiarray_umath\u001b[39;00m\u001b[38;5;250m \u001b[39m\u001b[38;5;28;01mimport\u001b[39;00m (\n\u001b[1;32m      9\u001b[0m     add_docstring,  _get_implementing_args, _ArrayFunctionDispatcher)\n\u001b[1;32m     12\u001b[0m ARRAY_FUNCTIONS \u001b[38;5;241m=\u001b[39m \u001b[38;5;28mset\u001b[39m()\n",
      "\u001b[0;31mImportError\u001b[0m: dlopen(/Users/leery24/Library/Python/3.9/lib/python/site-packages/numpy/core/_multiarray_umath.cpython-39-darwin.so, 0x0002): tried: '/Users/leery24/Library/Python/3.9/lib/python/site-packages/numpy/core/_multiarray_umath.cpython-39-darwin.so' (mach-o file, but is an incompatible architecture (have 'x86_64', need 'arm64e' or 'arm64')), '/System/Volumes/Preboot/Cryptexes/OS/Users/leery24/Library/Python/3.9/lib/python/site-packages/numpy/core/_multiarray_umath.cpython-39-darwin.so' (no such file), '/Users/leery24/Library/Python/3.9/lib/python/site-packages/numpy/core/_multiarray_umath.cpython-39-darwin.so' (mach-o file, but is an incompatible architecture (have 'x86_64', need 'arm64e' or 'arm64'))",
      "\nDuring handling of the above exception, another exception occurred:\n",
      "\u001b[0;31mImportError\u001b[0m                               Traceback (most recent call last)",
      "File \u001b[0;32m~/Library/Python/3.9/lib/python/site-packages/numpy/__init__.py:130\u001b[0m\n\u001b[1;32m    129\u001b[0m \u001b[38;5;28;01mtry\u001b[39;00m:\n\u001b[0;32m--> 130\u001b[0m     \u001b[38;5;28;01mfrom\u001b[39;00m\u001b[38;5;250m \u001b[39m\u001b[38;5;21;01mnumpy\u001b[39;00m\u001b[38;5;21;01m.\u001b[39;00m\u001b[38;5;21;01m__config__\u001b[39;00m\u001b[38;5;250m \u001b[39m\u001b[38;5;28;01mimport\u001b[39;00m show \u001b[38;5;28;01mas\u001b[39;00m show_config\n\u001b[1;32m    131\u001b[0m \u001b[38;5;28;01mexcept\u001b[39;00m \u001b[38;5;167;01mImportError\u001b[39;00m \u001b[38;5;28;01mas\u001b[39;00m e:\n",
      "File \u001b[0;32m~/Library/Python/3.9/lib/python/site-packages/numpy/__config__.py:4\u001b[0m\n\u001b[1;32m      3\u001b[0m \u001b[38;5;28;01mfrom\u001b[39;00m\u001b[38;5;250m \u001b[39m\u001b[38;5;21;01menum\u001b[39;00m\u001b[38;5;250m \u001b[39m\u001b[38;5;28;01mimport\u001b[39;00m Enum\n\u001b[0;32m----> 4\u001b[0m \u001b[38;5;28;01mfrom\u001b[39;00m\u001b[38;5;250m \u001b[39m\u001b[38;5;21;01mnumpy\u001b[39;00m\u001b[38;5;21;01m.\u001b[39;00m\u001b[38;5;21;01mcore\u001b[39;00m\u001b[38;5;21;01m.\u001b[39;00m\u001b[38;5;21;01m_multiarray_umath\u001b[39;00m\u001b[38;5;250m \u001b[39m\u001b[38;5;28;01mimport\u001b[39;00m (\n\u001b[1;32m      5\u001b[0m     __cpu_features__,\n\u001b[1;32m      6\u001b[0m     __cpu_baseline__,\n\u001b[1;32m      7\u001b[0m     __cpu_dispatch__,\n\u001b[1;32m      8\u001b[0m )\n\u001b[1;32m     10\u001b[0m __all__ \u001b[38;5;241m=\u001b[39m [\u001b[38;5;124m\"\u001b[39m\u001b[38;5;124mshow\u001b[39m\u001b[38;5;124m\"\u001b[39m]\n",
      "File \u001b[0;32m~/Library/Python/3.9/lib/python/site-packages/numpy/core/__init__.py:50\u001b[0m\n\u001b[1;32m     27\u001b[0m     msg \u001b[38;5;241m=\u001b[39m \u001b[38;5;124m\"\"\"\u001b[39m\n\u001b[1;32m     28\u001b[0m \n\u001b[1;32m     29\u001b[0m \u001b[38;5;124mIMPORTANT: PLEASE READ THIS FOR ADVICE ON HOW TO SOLVE THIS ISSUE!\u001b[39m\n\u001b[0;32m   (...)\u001b[0m\n\u001b[1;32m     48\u001b[0m \u001b[38;5;124m\"\"\"\u001b[39m \u001b[38;5;241m%\u001b[39m (sys\u001b[38;5;241m.\u001b[39mversion_info[\u001b[38;5;241m0\u001b[39m], sys\u001b[38;5;241m.\u001b[39mversion_info[\u001b[38;5;241m1\u001b[39m], sys\u001b[38;5;241m.\u001b[39mexecutable,\n\u001b[1;32m     49\u001b[0m         __version__, exc)\n\u001b[0;32m---> 50\u001b[0m     \u001b[38;5;28;01mraise\u001b[39;00m \u001b[38;5;167;01mImportError\u001b[39;00m(msg)\n\u001b[1;32m     51\u001b[0m \u001b[38;5;28;01mfinally\u001b[39;00m:\n",
      "\u001b[0;31mImportError\u001b[0m: \n\nIMPORTANT: PLEASE READ THIS FOR ADVICE ON HOW TO SOLVE THIS ISSUE!\n\nImporting the numpy C-extensions failed. This error can happen for\nmany reasons, often due to issues with your setup or how NumPy was\ninstalled.\n\nWe have compiled some common reasons and troubleshooting tips at:\n\n    https://numpy.org/devdocs/user/troubleshooting-importerror.html\n\nPlease note and check the following:\n\n  * The Python version is: Python3.9 from \"/Applications/Xcode.app/Contents/Developer/usr/bin/python3\"\n  * The NumPy version is: \"1.26.4\"\n\nand make sure that they are the versions you expect.\nPlease carefully study the documentation linked above for further help.\n\nOriginal error was: dlopen(/Users/leery24/Library/Python/3.9/lib/python/site-packages/numpy/core/_multiarray_umath.cpython-39-darwin.so, 0x0002): tried: '/Users/leery24/Library/Python/3.9/lib/python/site-packages/numpy/core/_multiarray_umath.cpython-39-darwin.so' (mach-o file, but is an incompatible architecture (have 'x86_64', need 'arm64e' or 'arm64')), '/System/Volumes/Preboot/Cryptexes/OS/Users/leery24/Library/Python/3.9/lib/python/site-packages/numpy/core/_multiarray_umath.cpython-39-darwin.so' (no such file), '/Users/leery24/Library/Python/3.9/lib/python/site-packages/numpy/core/_multiarray_umath.cpython-39-darwin.so' (mach-o file, but is an incompatible architecture (have 'x86_64', need 'arm64e' or 'arm64'))\n",
      "\nThe above exception was the direct cause of the following exception:\n",
      "\u001b[0;31mImportError\u001b[0m                               Traceback (most recent call last)",
      "Cell \u001b[0;32mIn[1], line 8\u001b[0m\n\u001b[1;32m      5\u001b[0m warnings\u001b[38;5;241m.\u001b[39mfilterwarnings(\u001b[38;5;124m\"\u001b[39m\u001b[38;5;124mignore\u001b[39m\u001b[38;5;124m\"\u001b[39m)\n\u001b[1;32m      7\u001b[0m \u001b[38;5;66;03m# Data Handling and Numerical Operations\u001b[39;00m\n\u001b[0;32m----> 8\u001b[0m \u001b[38;5;28;01mimport\u001b[39;00m\u001b[38;5;250m \u001b[39m\u001b[38;5;21;01mnumpy\u001b[39;00m\u001b[38;5;250m \u001b[39m\u001b[38;5;28;01mas\u001b[39;00m\u001b[38;5;250m \u001b[39m\u001b[38;5;21;01mnp\u001b[39;00m\n\u001b[1;32m      9\u001b[0m \u001b[38;5;28;01mimport\u001b[39;00m\u001b[38;5;250m \u001b[39m\u001b[38;5;21;01mpandas\u001b[39;00m\u001b[38;5;250m \u001b[39m\u001b[38;5;28;01mas\u001b[39;00m\u001b[38;5;250m \u001b[39m\u001b[38;5;21;01mpd\u001b[39;00m\n\u001b[1;32m     10\u001b[0m \u001b[38;5;28;01mimport\u001b[39;00m\u001b[38;5;250m \u001b[39m\u001b[38;5;21;01mkagglehub\u001b[39;00m\u001b[38;5;250m \u001b[39m\u001b[38;5;28;01mas\u001b[39;00m\u001b[38;5;250m \u001b[39m\u001b[38;5;21;01mkh\u001b[39;00m\n",
      "File \u001b[0;32m~/Library/Python/3.9/lib/python/site-packages/numpy/__init__.py:135\u001b[0m\n\u001b[1;32m    131\u001b[0m \u001b[38;5;28;01mexcept\u001b[39;00m \u001b[38;5;167;01mImportError\u001b[39;00m \u001b[38;5;28;01mas\u001b[39;00m e:\n\u001b[1;32m    132\u001b[0m     msg \u001b[38;5;241m=\u001b[39m \u001b[38;5;124m\"\"\"\u001b[39m\u001b[38;5;124mError importing numpy: you should not try to import numpy from\u001b[39m\n\u001b[1;32m    133\u001b[0m \u001b[38;5;124m    its source directory; please exit the numpy source tree, and relaunch\u001b[39m\n\u001b[1;32m    134\u001b[0m \u001b[38;5;124m    your python interpreter from there.\u001b[39m\u001b[38;5;124m\"\"\"\u001b[39m\n\u001b[0;32m--> 135\u001b[0m     \u001b[38;5;28;01mraise\u001b[39;00m \u001b[38;5;167;01mImportError\u001b[39;00m(msg) \u001b[38;5;28;01mfrom\u001b[39;00m\u001b[38;5;250m \u001b[39m\u001b[38;5;21;01me\u001b[39;00m\n\u001b[1;32m    137\u001b[0m __all__ \u001b[38;5;241m=\u001b[39m [\n\u001b[1;32m    138\u001b[0m     \u001b[38;5;124m'\u001b[39m\u001b[38;5;124mexceptions\u001b[39m\u001b[38;5;124m'\u001b[39m, \u001b[38;5;124m'\u001b[39m\u001b[38;5;124mModuleDeprecationWarning\u001b[39m\u001b[38;5;124m'\u001b[39m, \u001b[38;5;124m'\u001b[39m\u001b[38;5;124mVisibleDeprecationWarning\u001b[39m\u001b[38;5;124m'\u001b[39m,\n\u001b[1;32m    139\u001b[0m     \u001b[38;5;124m'\u001b[39m\u001b[38;5;124mComplexWarning\u001b[39m\u001b[38;5;124m'\u001b[39m, \u001b[38;5;124m'\u001b[39m\u001b[38;5;124mTooHardError\u001b[39m\u001b[38;5;124m'\u001b[39m, \u001b[38;5;124m'\u001b[39m\u001b[38;5;124mAxisError\u001b[39m\u001b[38;5;124m'\u001b[39m]\n\u001b[1;32m    141\u001b[0m \u001b[38;5;66;03m# mapping of {name: (value, deprecation_msg)}\u001b[39;00m\n",
      "\u001b[0;31mImportError\u001b[0m: Error importing numpy: you should not try to import numpy from\n        its source directory; please exit the numpy source tree, and relaunch\n        your python interpreter from there."
     ]
    }
   ],
   "source": [
    "# Standard Library Imports\n",
    "import os\n",
    "import itertools\n",
    "import warnings\n",
    "warnings.filterwarnings(\"ignore\")\n",
    "\n",
    "# Data Handling and Numerical Operations\n",
    "import numpy as np\n",
    "import pandas as pd\n",
    "import kagglehub as kh\n",
    "\n",
    "# Plotting Libraries\n",
    "import cv2\n",
    "import matplotlib.pyplot as plt\n",
    "import matplotlib.image as mpimg\n",
    "%matplotlib inline\n",
    "import seaborn as sns\n",
    "import visualkeras as vk\n",
    "\n",
    "# Model Building and Preprocessing\n",
    "import tensorflow as tf\n",
    "from tensorflow.keras.models import Model, Sequential\n",
    "from tensorflow.keras.layers import Dense, GlobalAveragePooling2D, BatchNormalization, Dropout, Flatten\n",
    "from tensorflow.keras.preprocessing.image import ImageDataGenerator\n",
    "from tensorflow.keras.optimizers import Adam, Adamax\n",
    "from tensorflow.keras.applications import DenseNet121\n",
    "from tensorflow.keras.regularizers import l2\n",
    "from tensorflow.keras.utils import get_file\n",
    "\n",
    "# Model Evaluation and Metrics\n",
    "from sklearn.model_selection import train_test_split\n",
    "from sklearn.metrics import precision_recall_fscore_support, classification_report, roc_curve, auc, confusion_matrix\n",
    "\n",
    "\n",
    "ddsm_path = kh.dataset_download(\"awsaf49/cbis-ddsm-breast-cancer-image-dataset\")\n",
    "print(ddsm_path)"
   ]
  },
  {
   "cell_type": "markdown",
   "id": "605915a8",
   "metadata": {
    "id": "605915a8"
   },
   "source": [
    "# Data Preperation"
   ]
  },
  {
   "cell_type": "code",
   "execution_count": null,
   "id": "e650622b",
   "metadata": {
    "colab": {
     "base_uri": "https://localhost:8080/",
     "height": 226
    },
    "executionInfo": {
     "elapsed": 76,
     "status": "ok",
     "timestamp": 1753006129416,
     "user": {
      "displayName": "Lee Hetherington",
      "userId": "17699086544046018815"
     },
     "user_tz": -60
    },
    "id": "e650622b",
    "outputId": "2a7f2529-0083-4605-ce8c-21862f5e95a8"
   },
   "outputs": [],
   "source": [
    "df_meta = pd.read_csv(ddsm_path+'/csv/meta.csv')\n",
    "df_meta.head()"
   ]
  },
  {
   "cell_type": "code",
   "execution_count": null,
   "id": "ffd42a9b",
   "metadata": {
    "colab": {
     "base_uri": "https://localhost:8080/",
     "height": 342
    },
    "executionInfo": {
     "elapsed": 256,
     "status": "ok",
     "timestamp": 1753006129674,
     "user": {
      "displayName": "Lee Hetherington",
      "userId": "17699086544046018815"
     },
     "user_tz": -60
    },
    "id": "ffd42a9b",
    "outputId": "1e2214cd-ac7b-4ab0-e7e3-462438dc9fb1"
   },
   "outputs": [],
   "source": [
    "# load dicom info file\n",
    "df_dicom = pd.read_csv(ddsm_path+'/csv/dicom_info.csv')\n",
    "df_dicom.head()"
   ]
  },
  {
   "cell_type": "code",
   "execution_count": null,
   "id": "1712a5bb",
   "metadata": {
    "colab": {
     "base_uri": "https://localhost:8080/"
    },
    "executionInfo": {
     "elapsed": 2,
     "status": "ok",
     "timestamp": 1753006129677,
     "user": {
      "displayName": "Lee Hetherington",
      "userId": "17699086544046018815"
     },
     "user_tz": -60
    },
    "id": "1712a5bb",
    "outputId": "9953be88-ec67-40f1-9b23-18f804d3019a"
   },
   "outputs": [],
   "source": [
    "# check image types in dataset\n",
    "df_dicom.SeriesDescription.unique()"
   ]
  },
  {
   "cell_type": "code",
   "execution_count": null,
   "id": "034c93cc",
   "metadata": {
    "colab": {
     "base_uri": "https://localhost:8080/"
    },
    "executionInfo": {
     "elapsed": 4,
     "status": "ok",
     "timestamp": 1753006129682,
     "user": {
      "displayName": "Lee Hetherington",
      "userId": "17699086544046018815"
     },
     "user_tz": -60
    },
    "id": "034c93cc",
    "outputId": "17dd0773-662d-44cd-b397-3756e03122ed"
   },
   "outputs": [],
   "source": [
    "# check image path in dataset\n",
    "# cropped images\n",
    "cropped_images = df_dicom[df_dicom.SeriesDescription=='cropped images'].image_path\n",
    "print(cropped_images.iloc[0])"
   ]
  },
  {
   "cell_type": "code",
   "execution_count": null,
   "id": "9ca6ae48",
   "metadata": {
    "colab": {
     "base_uri": "https://localhost:8080/"
    },
    "executionInfo": {
     "elapsed": 12,
     "status": "ok",
     "timestamp": 1753006129695,
     "user": {
      "displayName": "Lee Hetherington",
      "userId": "17699086544046018815"
     },
     "user_tz": -60
    },
    "id": "9ca6ae48",
    "outputId": "f73e04b5-c561-4eee-8515-a43f8dec7f7a"
   },
   "outputs": [],
   "source": [
    "#full mammogram images\n",
    "full_images = df_dicom[df_dicom.SeriesDescription=='full mammogram images'].image_path\n",
    "print(full_images.iloc[0])"
   ]
  },
  {
   "cell_type": "code",
   "execution_count": null,
   "id": "895be0ed",
   "metadata": {
    "colab": {
     "base_uri": "https://localhost:8080/"
    },
    "executionInfo": {
     "elapsed": 15,
     "status": "ok",
     "timestamp": 1753006129711,
     "user": {
      "displayName": "Lee Hetherington",
      "userId": "17699086544046018815"
     },
     "user_tz": -60
    },
    "id": "895be0ed",
    "outputId": "17a53cd8-62ea-40dd-e607-16d1b21fd082"
   },
   "outputs": [],
   "source": [
    "# ROI images\n",
    "mask_images = df_dicom[df_dicom.SeriesDescription=='ROI mask images'].image_path\n",
    "print(mask_images.iloc[0])"
   ]
  },
  {
   "cell_type": "code",
   "execution_count": null,
   "id": "29e321c8",
   "metadata": {
    "colab": {
     "base_uri": "https://localhost:8080/"
    },
    "executionInfo": {
     "elapsed": 55,
     "status": "ok",
     "timestamp": 1753006129767,
     "user": {
      "displayName": "Lee Hetherington",
      "userId": "17699086544046018815"
     },
     "user_tz": -60
    },
    "id": "29e321c8",
    "outputId": "ec218754-b744-4abf-db8c-82cfdb030124"
   },
   "outputs": [],
   "source": [
    "# Change path from above to local image directory\n",
    "path_to_replace = 'CBIS-DDSM/jpeg'\n",
    "# set correct image path for image types\n",
    "replacement_path = ddsm_path+'/jpeg'\n",
    "\n",
    "cropped_images = cropped_images.replace(path_to_replace, replacement_path, regex=True)\n",
    "full_images = full_images.replace(path_to_replace, replacement_path, regex=True)\n",
    "mask_images = mask_images.replace(path_to_replace, replacement_path, regex=True)\n",
    "\n",
    "# view new paths\n",
    "print('Cropped Images paths:')\n",
    "print(cropped_images.iloc[0])\n",
    "print('Full mammo Images paths:')\n",
    "print(full_images.iloc[0])\n",
    "print('ROI Mask Images paths:')\n",
    "print(mask_images.iloc[0])"
   ]
  },
  {
   "cell_type": "code",
   "execution_count": null,
   "id": "a5b079bf",
   "metadata": {
    "colab": {
     "base_uri": "https://localhost:8080/"
    },
    "executionInfo": {
     "elapsed": 3,
     "status": "ok",
     "timestamp": 1753006129767,
     "user": {
      "displayName": "Lee Hetherington",
      "userId": "17699086544046018815"
     },
     "user_tz": -60
    },
    "id": "a5b079bf",
    "outputId": "a3b455bd-7552-4d5b-d0a3-dece322814ea"
   },
   "outputs": [],
   "source": [
    "# organize image paths\n",
    "full_images_dict = dict()\n",
    "cropped_images_dict = dict()\n",
    "mask_images_dict = dict()\n",
    "\n",
    "for dicom in full_images:\n",
    "    key = dicom.split(\"/\")[5]\n",
    "    full_images_dict[key] = dicom\n",
    "for dicom in cropped_images:\n",
    "    key = dicom.split(\"/\")[5]\n",
    "    cropped_images_dict[key] = dicom\n",
    "for dicom in mask_images:\n",
    "    key = dicom.split(\"/\")[5]\n",
    "    mask_images_dict[key] = dicom\n",
    "\n",
    "# view keys\n",
    "next(iter((full_images_dict.items())))"
   ]
  },
  {
   "cell_type": "code",
   "execution_count": null,
   "id": "cc97afd4",
   "metadata": {
    "colab": {
     "base_uri": "https://localhost:8080/",
     "height": 170
    },
    "executionInfo": {
     "elapsed": 162,
     "status": "ok",
     "timestamp": 1753006129928,
     "user": {
      "displayName": "Lee Hetherington",
      "userId": "17699086544046018815"
     },
     "user_tz": -60
    },
    "id": "cc97afd4",
    "outputId": "1874189c-6e45-492d-c803-0318df73773e"
   },
   "outputs": [],
   "source": [
    "# Load the mass dataset\n",
    "mass_train = pd.read_csv(ddsm_path+'/csv/mass_case_description_train_set.csv')\n",
    "mass_test = pd.read_csv(ddsm_path+'/csv/mass_case_description_test_set.csv')\n",
    "# Merge train and test\n",
    "mass_df = pd.concat([mass_train, mass_test])\n",
    "\n",
    "mass_train.head(1)"
   ]
  },
  {
   "cell_type": "code",
   "execution_count": null,
   "id": "a3c28d1f",
   "metadata": {
    "colab": {
     "base_uri": "https://localhost:8080/"
    },
    "executionInfo": {
     "elapsed": 1432,
     "status": "ok",
     "timestamp": 1753006131351,
     "user": {
      "displayName": "Lee Hetherington",
      "userId": "17699086544046018815"
     },
     "user_tz": -60
    },
    "id": "a3c28d1f",
    "outputId": "29f39d6e-abdc-42e0-c0fc-e37d7f460ff2"
   },
   "outputs": [],
   "source": [
    "def fix_image_path(dataset):\n",
    "    for i, img in enumerate(dataset.values):\n",
    "        img_name = img[11].split(\"/\")[2]\n",
    "        if img_name in full_images_dict:\n",
    "            dataset.iloc[i, 11] = full_images_dict[img_name]\n",
    "\n",
    "        img_name = img[12].split(\"/\")[2]\n",
    "        if img_name in cropped_images_dict:\n",
    "            dataset.iloc[i, 12] = cropped_images_dict[img_name]\n",
    "\n",
    "        img_name = img[13].split(\"/\")[2]\n",
    "        if img_name in mask_images_dict:\n",
    "            dataset.iloc[i, 13] = mask_images_dict[img_name]\n",
    "\n",
    "# Fix image paths\n",
    "fix_image_path(mass_df)\n",
    "print(mass_df.iloc[1]['image file path'])\n",
    "print(mass_df.iloc[1]['cropped image file path'])\n",
    "print(mass_df.iloc[1]['ROI mask file path'])"
   ]
  },
  {
   "cell_type": "markdown",
   "id": "Qlxf9lgy8LNK",
   "metadata": {
    "id": "Qlxf9lgy8LNK"
   },
   "source": [
    "# Fix Data"
   ]
  },
  {
   "cell_type": "code",
   "execution_count": null,
   "id": "a9d234a6",
   "metadata": {
    "colab": {
     "base_uri": "https://localhost:8080/"
    },
    "executionInfo": {
     "elapsed": 8,
     "status": "ok",
     "timestamp": 1753006131351,
     "user": {
      "displayName": "Lee Hetherington",
      "userId": "17699086544046018815"
     },
     "user_tz": -60
    },
    "id": "a9d234a6",
    "outputId": "59eb311f-7b44-42dc-e675-f0c6f3c351c2"
   },
   "outputs": [],
   "source": [
    "mass_df.info()"
   ]
  },
  {
   "cell_type": "code",
   "execution_count": null,
   "id": "f4b101d9",
   "metadata": {
    "colab": {
     "base_uri": "https://localhost:8080/",
     "height": 135
    },
    "executionInfo": {
     "elapsed": 53,
     "status": "ok",
     "timestamp": 1753006131402,
     "user": {
      "displayName": "Lee Hetherington",
      "userId": "17699086544046018815"
     },
     "user_tz": -60
    },
    "id": "f4b101d9",
    "outputId": "3ea2962f-682f-4489-bd0a-2fd095d66243"
   },
   "outputs": [],
   "source": [
    "# Rename columns to remove spaces\n",
    "mass_df = mass_df.rename(columns={'left or right breast': 'left_or_right_breast',\n",
    "                                           'image view': 'image_view',\n",
    "                                           'abnormality id': 'abnormality_id',\n",
    "                                           'abnormality type': 'abnormality_type',\n",
    "                                           'mass shape': 'mass_shape',\n",
    "                                           'mass margins': 'mass_margins',\n",
    "                                           'image file path': 'image_file_path',\n",
    "                                           'cropped image file path': 'cropped_image_file_path',\n",
    "                                           'ROI mask file path': 'ROI_mask_file_path'})\n",
    "\n",
    "mass_df.head(1)"
   ]
  },
  {
   "cell_type": "code",
   "execution_count": null,
   "id": "f10585e6",
   "metadata": {
    "colab": {
     "base_uri": "https://localhost:8080/",
     "height": 523
    },
    "executionInfo": {
     "elapsed": 13,
     "status": "ok",
     "timestamp": 1753006131415,
     "user": {
      "displayName": "Lee Hetherington",
      "userId": "17699086544046018815"
     },
     "user_tz": -60
    },
    "id": "f10585e6",
    "outputId": "14bf7000-67ff-40b3-d8ad-ce15f0ac482d"
   },
   "outputs": [],
   "source": [
    "# Check for nulls\n",
    "mass_df.isnull().sum()"
   ]
  },
  {
   "cell_type": "code",
   "execution_count": null,
   "id": "13bb3405",
   "metadata": {
    "colab": {
     "base_uri": "https://localhost:8080/",
     "height": 523
    },
    "executionInfo": {
     "elapsed": 71,
     "status": "ok",
     "timestamp": 1753006131487,
     "user": {
      "displayName": "Lee Hetherington",
      "userId": "17699086544046018815"
     },
     "user_tz": -60
    },
    "id": "13bb3405",
    "outputId": "0fb050cc-e9e9-4e26-c23d-fe4871e3c6e8"
   },
   "outputs": [],
   "source": [
    "# Back fill null values\n",
    "mass_df['mass_shape'] = mass_df['mass_shape'].bfill()\n",
    "mass_df['mass_margins'] = mass_df['mass_margins'].bfill()\n",
    "\n",
    "# Recheck\n",
    "mass_df.isnull().sum()"
   ]
  },
  {
   "cell_type": "code",
   "execution_count": null,
   "id": "3977f238",
   "metadata": {
    "colab": {
     "base_uri": "https://localhost:8080/",
     "height": 300
    },
    "executionInfo": {
     "elapsed": 62,
     "status": "ok",
     "timestamp": 1753006131555,
     "user": {
      "displayName": "Lee Hetherington",
      "userId": "17699086544046018815"
     },
     "user_tz": -60
    },
    "id": "3977f238",
    "outputId": "e0bf4453-c053-41f7-c933-01b0f3aa48dc"
   },
   "outputs": [],
   "source": [
    "# Summarise Features\n",
    "mass_df.describe()"
   ]
  },
  {
   "cell_type": "code",
   "execution_count": null,
   "id": "c98f25d1",
   "metadata": {
    "colab": {
     "base_uri": "https://localhost:8080/"
    },
    "executionInfo": {
     "elapsed": 16,
     "status": "ok",
     "timestamp": 1753006131569,
     "user": {
      "displayName": "Lee Hetherington",
      "userId": "17699086544046018815"
     },
     "user_tz": -60
    },
    "id": "c98f25d1",
    "outputId": "702eddd7-5a1a-47cf-fbf0-fef99a3733b6"
   },
   "outputs": [],
   "source": [
    "# Check unique values in pathology column\n",
    "print(mass_df.pathology.value_counts())"
   ]
  },
  {
   "cell_type": "code",
   "execution_count": null,
   "id": "Rc4EujEuUy5D",
   "metadata": {
    "colab": {
     "base_uri": "https://localhost:8080/"
    },
    "executionInfo": {
     "elapsed": 46,
     "status": "ok",
     "timestamp": 1753006131612,
     "user": {
      "displayName": "Lee Hetherington",
      "userId": "17699086544046018815"
     },
     "user_tz": -60
    },
    "id": "Rc4EujEuUy5D",
    "outputId": "adc160a5-4352-40d3-f3d9-29b0f7ea1feb"
   },
   "outputs": [],
   "source": [
    "# Remap\n",
    "mapper = {'MALIGNANT': 'MALIGNANT', 'BENIGN': 'BENIGN', 'BENIGN_WITHOUT_CALLBACK': 'BENIGN'}\n",
    "mass_df['pathology'] = mass_df['pathology'].map(mapper)\n",
    "# Check only two classes remain\n",
    "mass_df.pathology.unique()"
   ]
  },
  {
   "cell_type": "code",
   "execution_count": null,
   "id": "44d7f5fd",
   "metadata": {
    "colab": {
     "base_uri": "https://localhost:8080/"
    },
    "executionInfo": {
     "elapsed": 4,
     "status": "ok",
     "timestamp": 1753006131612,
     "user": {
      "displayName": "Lee Hetherington",
      "userId": "17699086544046018815"
     },
     "user_tz": -60
    },
    "id": "44d7f5fd",
    "outputId": "3f7c7ad5-078e-45e8-ee81-bd16361e286d"
   },
   "outputs": [],
   "source": [
    "# Check dataset shape\n",
    "print(f'Shape of mass_train: {mass_df.shape}')"
   ]
  },
  {
   "cell_type": "markdown",
   "id": "027b37e3",
   "metadata": {
    "id": "027b37e3"
   },
   "source": [
    "# Visualizations"
   ]
  },
  {
   "cell_type": "code",
   "execution_count": null,
   "id": "4781d59f",
   "metadata": {
    "colab": {
     "base_uri": "https://localhost:8080/",
     "height": 523
    },
    "executionInfo": {
     "elapsed": 98,
     "status": "ok",
     "timestamp": 1753006131709,
     "user": {
      "displayName": "Lee Hetherington",
      "userId": "17699086544046018815"
     },
     "user_tz": -60
    },
    "id": "4781d59f",
    "outputId": "261060b1-8f3b-42c3-f9db-69fdeef32e4a"
   },
   "outputs": [],
   "source": [
    "# Pathology distribution\n",
    "value = mass_df['pathology'].value_counts()\n",
    "plt.figure(figsize=(6,6))\n",
    "\n",
    "plt.pie(value, labels=value.index, autopct='%1.1f%%')\n",
    "plt.title('Breast Cancer Pathology Distribution', fontsize=15)\n",
    "plt.show()"
   ]
  },
  {
   "cell_type": "code",
   "execution_count": null,
   "id": "c758ffa7",
   "metadata": {
    "colab": {
     "base_uri": "https://localhost:8080/",
     "height": 794
    },
    "executionInfo": {
     "elapsed": 33518,
     "status": "ok",
     "timestamp": 1753006165226,
     "user": {
      "displayName": "Lee Hetherington",
      "userId": "17699086544046018815"
     },
     "user_tz": -60
    },
    "id": "c758ffa7",
    "outputId": "aebc4cae-577f-4630-baaa-017273677797"
   },
   "outputs": [],
   "source": [
    "def display_images_by_type(dataframe, num_images_to_show=5):\n",
    "    image_info = [\n",
    "        {'column': 'image_file_path', 'title': 'Full Mammogram'},\n",
    "        {'column': 'ROI_mask_file_path', 'title': 'Mask'},\n",
    "        {'column': 'cropped_image_file_path', 'title': 'Cropped Mammogram'},\n",
    "    ]\n",
    "\n",
    "    num_image_types = len(image_info)\n",
    "    fig, axes = plt.subplots(num_image_types, num_images_to_show, figsize=(num_images_to_show * 3, num_image_types * 3))\n",
    "    top_n_entries = dataframe.head(num_images_to_show)\n",
    "\n",
    "    for type_idx, info in enumerate(image_info):\n",
    "        column_name = info['column']\n",
    "        column_title = info['title']\n",
    "        if type_idx == 0:\n",
    "            fig.suptitle(f'Visualizing {num_images_to_show} Entries by Image Type', fontsize=16, y=1.02)\n",
    "\n",
    "        for img_idx, (index, row_data) in enumerate(top_n_entries.iterrows()):\n",
    "            image_path = row_data[column_name]\n",
    "            image = mpimg.imread(image_path)\n",
    "\n",
    "            ax = axes[type_idx][img_idx]\n",
    "            ax.imshow(image, cmap='gray')\n",
    "\n",
    "            if img_idx == 0:\n",
    "                ax.set_ylabel(column_title, rotation=90, size='large', ha='right')\n",
    "                ax.yaxis.set_label_coords(-0.25, 0.5)\n",
    "\n",
    "            ax.set_title(f\"Pathology: {row_data['pathology']}\", fontsize=8)\n",
    "            ax.axis('off')\n",
    "\n",
    "    plt.tight_layout(rect=[0, 0.03, 1, 0.95])\n",
    "    plt.show()\n",
    "\n",
    "\n",
    "display_images_by_type(mass_df, num_images_to_show=5)"
   ]
  },
  {
   "cell_type": "markdown",
   "id": "f0d43dab",
   "metadata": {
    "id": "f0d43dab"
   },
   "source": [
    "# Preprocessing of Images"
   ]
  },
  {
   "cell_type": "code",
   "execution_count": null,
   "id": "o24TyKYjp6mC",
   "metadata": {
    "executionInfo": {
     "elapsed": 5,
     "status": "ok",
     "timestamp": 1753006165227,
     "user": {
      "displayName": "Lee Hetherington",
      "userId": "17699086544046018815"
     },
     "user_tz": -60
    },
    "id": "o24TyKYjp6mC"
   },
   "outputs": [],
   "source": [
    "df = mass_df[['cropped_image_file_path', 'pathology']].copy()\n",
    "df = df.dropna()  # Drop rows with missing paths or labels\n",
    "\n",
    "# Split into train and test/validation\n",
    "train_df, test_df = train_test_split(df, test_size=0.2, stratify=df['pathology'], random_state=12)\n",
    "\n",
    "# Split into test and validation sets (10% of data each)\n",
    "train_df, valid_df = train_test_split(train_df, test_size=0.5, stratify=train_df['pathology'], random_state=12)"
   ]
  },
  {
   "cell_type": "code",
   "execution_count": null,
   "id": "jv7-8-fbpPe_",
   "metadata": {
    "colab": {
     "base_uri": "https://localhost:8080/"
    },
    "executionInfo": {
     "elapsed": 3992,
     "status": "ok",
     "timestamp": 1753006169216,
     "user": {
      "displayName": "Lee Hetherington",
      "userId": "17699086544046018815"
     },
     "user_tz": -60
    },
    "id": "jv7-8-fbpPe_",
    "outputId": "cc6f796c-9eb0-4e81-eddd-45b0c64cc949"
   },
   "outputs": [],
   "source": [
    "# Define image dimensions and batch size\n",
    "IMAGE_DIMENSIONS = (299, 299)\n",
    "TRAINING_BATCH_SIZE = 32\n",
    "\n",
    "# Basic Augmentation Pipeline\n",
    "augmentation = ImageDataGenerator(\n",
    "    rescale=1./255,\n",
    "    rotation_range=5,\n",
    "    width_shift_range=0.03,\n",
    "    height_shift_range=0.03,\n",
    "    shear_range=0.03,\n",
    "    zoom_range=0.03,\n",
    "    fill_mode='reflect',\n",
    "    horizontal_flip=True,\n",
    "    vertical_flip=True,\n",
    ")\n",
    "\n",
    "# Data generator for training data with augmentation\n",
    "augmented_train = augmentation.flow_from_dataframe(\n",
    "    dataframe=train_df,\n",
    "    x_col='cropped_image_file_path',\n",
    "    y_col='pathology',\n",
    "    target_size=IMAGE_DIMENSIONS,\n",
    "    batch_size=TRAINING_BATCH_SIZE,\n",
    "    class_mode='categorical',\n",
    "    shuffle=True,\n",
    "    seed=12\n",
    ")\n",
    "\n",
    "# Data generators for validation and test data without augmentation (only rescaling)\n",
    "validation_test_preprocessing = ImageDataGenerator(rescale=1./255)\n",
    "\n",
    "augmented_validation = validation_test_preprocessing.flow_from_dataframe(\n",
    "    dataframe=valid_df,\n",
    "    x_col='cropped_image_file_path',\n",
    "    y_col='pathology',\n",
    "    target_size=IMAGE_DIMENSIONS,\n",
    "    batch_size=TRAINING_BATCH_SIZE,\n",
    "    class_mode='categorical',\n",
    "    shuffle=False,\n",
    "    seed=12\n",
    ")\n",
    "\n",
    "augmented_test = validation_test_preprocessing.flow_from_dataframe(\n",
    "    dataframe=test_df,\n",
    "    x_col='cropped_image_file_path',\n",
    "    y_col='pathology',\n",
    "    target_size=IMAGE_DIMENSIONS,\n",
    "    batch_size=TRAINING_BATCH_SIZE,\n",
    "    class_mode='categorical',\n",
    "    shuffle=False,\n",
    "    seed=42\n",
    ")"
   ]
  },
  {
   "cell_type": "code",
   "execution_count": null,
   "id": "oZtTMF6EO1zH",
   "metadata": {
    "colab": {
     "base_uri": "https://localhost:8080/",
     "height": 415
    },
    "executionInfo": {
     "elapsed": 1700,
     "status": "ok",
     "timestamp": 1753006170916,
     "user": {
      "displayName": "Lee Hetherington",
      "userId": "17699086544046018815"
     },
     "user_tz": -60
    },
    "id": "oZtTMF6EO1zH",
    "outputId": "99f0b775-b5f6-4ac8-fbb6-97dddcd86e18"
   },
   "outputs": [],
   "source": [
    "# Get images\n",
    "images, labels = next(augmented_train)\n",
    "\n",
    "# Convert labels to names from binary\n",
    "class_indices = augmented_train.class_indices\n",
    "classes = list(class_indices.keys())\n",
    "label_names = [classes[np.argmax(label)] for label in labels]\n",
    "\n",
    "# Display the images\n",
    "plt.figure(figsize=(10, 10))\n",
    "for i in range(min(images.shape[0], 10)): # display 10\n",
    "    plt.subplot(5, 5, i + 1)\n",
    "    plt.imshow(images[i])\n",
    "    plt.title(label_names[i])\n",
    "    plt.axis('off')\n",
    "plt.tight_layout()\n",
    "plt.show()"
   ]
  },
  {
   "cell_type": "markdown",
   "id": "2ad0440f",
   "metadata": {
    "id": "2ad0440f"
   },
   "source": [
    "# CNN Architecture"
   ]
  },
  {
   "cell_type": "code",
   "execution_count": null,
   "id": "4dc6e018",
   "metadata": {
    "colab": {
     "base_uri": "https://localhost:8080/",
     "height": 1000
    },
    "executionInfo": {
     "elapsed": 5910,
     "status": "ok",
     "timestamp": 1753006176828,
     "user": {
      "displayName": "Lee Hetherington",
      "userId": "17699086544046018815"
     },
     "user_tz": -60
    },
    "id": "4dc6e018",
    "outputId": "07deabd2-fc36-4277-82a9-a44f37dbc7ab"
   },
   "outputs": [],
   "source": [
    "def create_model(train_set):\n",
    "    img_shape = (int(299), int(299), int(3)) # has to be 3 channel for pretrained models\n",
    "    class_count = len(train_set.class_indices)\n",
    "    print(\"Class count:\", class_count)\n",
    "    print(\"Class indices:\", train_set.class_indices)\n",
    "\n",
    "    base_model = DenseNet121(include_top=False, input_shape=img_shape, weights='imagenet')\n",
    "\n",
    "    # Freeze the base model layers to prevent them from being updated during initial training\n",
    "    for layer in base_model.layers:\n",
    "        layer.trainable = False\n",
    "\n",
    "    x = base_model.output\n",
    "    x = Flatten()(x)\n",
    "    x = BatchNormalization()(x)\n",
    "    x = Dense(256, activation=\"relu\", kernel_regularizer=l2(0.001))(x)\n",
    "    x = Dropout(0.5)(x)\n",
    "    x = Dense(64, activation=\"relu\", kernel_regularizer=l2(0.001))(x)\n",
    "    x = Dropout(0.3)(x)\n",
    "\n",
    "    output = Dense(class_count, activation=\"sigmoid\", name=\"output_sigmoid\")(x)\n",
    "\n",
    "    # 4. Create the Keras Model:\n",
    "    model = Model(inputs=base_model.input, outputs=output)\n",
    "\n",
    "    # 5. Compile the model\n",
    "    model.compile(optimizer=Adamax(learning_rate=0.00005), # Keep your specified optimizer and learning rate\n",
    "                  loss='binary_crossentropy',\n",
    "                  metrics=['accuracy'])\n",
    "    model.summary()\n",
    "    return model\n",
    "\n",
    "model = create_model(augmented_train)"
   ]
  },
  {
   "cell_type": "code",
   "execution_count": null,
   "id": "F5gHvH30Rd-4",
   "metadata": {
    "colab": {
     "base_uri": "https://localhost:8080/",
     "height": 115
    },
    "executionInfo": {
     "elapsed": 2105,
     "status": "ok",
     "timestamp": 1753006178938,
     "user": {
      "displayName": "Lee Hetherington",
      "userId": "17699086544046018815"
     },
     "user_tz": -60
    },
    "id": "F5gHvH30Rd-4",
    "outputId": "74669850-ba37-4914-c80a-57d7a970df17"
   },
   "outputs": [],
   "source": [
    "vk.layered_view(\n",
    "    model\n",
    ")"
   ]
  },
  {
   "cell_type": "code",
   "execution_count": null,
   "id": "PfQ51RT7q9Gz",
   "metadata": {
    "colab": {
     "base_uri": "https://localhost:8080/"
    },
    "executionInfo": {
     "elapsed": 575649,
     "status": "ok",
     "timestamp": 1753006754591,
     "user": {
      "displayName": "Lee Hetherington",
      "userId": "17699086544046018815"
     },
     "user_tz": -60
    },
    "id": "PfQ51RT7q9Gz",
    "outputId": "25f49e11-bafa-4325-dc2c-cc7a17783030"
   },
   "outputs": [],
   "source": [
    "def train_and_evaluate_model(model, train_generator, validation_generator, test_generator, num_epochs=25):\n",
    "    # Model Training\n",
    "    training_history = model.fit(\n",
    "        train_generator,\n",
    "        validation_data=validation_generator,\n",
    "        epochs=num_epochs\n",
    "    )\n",
    "\n",
    "    # Evaluate Model on Test Set\n",
    "    test_predictions_probabilities = model.predict(test_generator)\n",
    "    predicted_class_labels = np.argmax(test_predictions_probabilities, axis=1)\n",
    "    true_class_labels = test_generator.classes\n",
    "\n",
    "    # Calculate precision, recall, and F1 score.\n",
    "    precision_score, recall_score, f1_score, _ = precision_recall_fscore_support(\n",
    "        true_class_labels, predicted_class_labels, average='weighted', zero_division=0\n",
    "    )\n",
    "\n",
    "    # Create metrics dict\n",
    "    metrics = {\n",
    "        'test_precision': precision_score,\n",
    "        'test_recall': recall_score,\n",
    "        'test_f1_score': f1_score\n",
    "    }\n",
    "\n",
    "\n",
    "    return training_history, metrics\n",
    "\n",
    "history, metrics = train_and_evaluate_model(model, augmented_train, augmented_validation, augmented_test)"
   ]
  },
  {
   "cell_type": "markdown",
   "id": "YasKdCnGB7SR",
   "metadata": {
    "id": "YasKdCnGB7SR"
   },
   "source": [
    "# Evaluation"
   ]
  },
  {
   "cell_type": "code",
   "execution_count": null,
   "id": "MuM8XRI26ZLF",
   "metadata": {
    "colab": {
     "base_uri": "https://localhost:8080/"
    },
    "executionInfo": {
     "elapsed": 7,
     "status": "ok",
     "timestamp": 1753006754601,
     "user": {
      "displayName": "Lee Hetherington",
      "userId": "17699086544046018815"
     },
     "user_tz": -60
    },
    "id": "MuM8XRI26ZLF",
    "outputId": "92aba78e-5014-4f5a-be47-eedd669ff578"
   },
   "outputs": [],
   "source": [
    "print(metrics)"
   ]
  },
  {
   "cell_type": "code",
   "execution_count": null,
   "id": "5b928fdc",
   "metadata": {
    "colab": {
     "base_uri": "https://localhost:8080/",
     "height": 1000
    },
    "executionInfo": {
     "elapsed": 2979,
     "status": "ok",
     "timestamp": 1753006757581,
     "user": {
      "displayName": "Lee Hetherington",
      "userId": "17699086544046018815"
     },
     "user_tz": -60
    },
    "id": "5b928fdc",
    "outputId": "cb9440c3-77af-45c6-8038-5a3270ae663a"
   },
   "outputs": [],
   "source": [
    "def confusion_matrix_plot(test, y_predict):\n",
    "  y_pred = np.argmax(y_predict, axis=1)\n",
    "\n",
    "  # get class indices and labels\n",
    "  class_indices = test.class_indices\n",
    "  classes = list(class_indices.keys())\n",
    "\n",
    "  # compute confusion matrix\n",
    "  cm = confusion_matrix(test.classes, y_pred)\n",
    "\n",
    "  plt.figure(figsize=(10, 10))\n",
    "  plt.imshow(cm, interpolation='nearest', cmap=plt.cm.Blues)\n",
    "  plt.title('Confusion Matrix')\n",
    "  plt.colorbar()\n",
    "\n",
    "  tick_marks = np.arange(len(classes))\n",
    "  plt.xticks(tick_marks, classes, rotation=45)\n",
    "  plt.yticks(tick_marks, classes)\n",
    "\n",
    "  threshold = cm.max() / 2.0\n",
    "  for i, j in itertools.product(range(cm.shape[0]), range(cm.shape[1])):\n",
    "      plt.text(\n",
    "          j, i, f\"{cm[i, j]}\",\n",
    "          horizontalalignment='center',\n",
    "          color='white' if cm[i, j] > threshold else 'black'\n",
    "      )\n",
    "\n",
    "  plt.tight_layout()\n",
    "  plt.ylabel('True Label')\n",
    "  plt.xlabel('Predicted Label')\n",
    "  plt.show()\n",
    "\n",
    "y_prediction = model.predict(augmented_test)\n",
    "confusion_matrix_plot(augmented_test, y_prediction)"
   ]
  },
  {
   "cell_type": "code",
   "execution_count": null,
   "id": "ZU5S5j3Hn4ed",
   "metadata": {
    "colab": {
     "base_uri": "https://localhost:8080/",
     "height": 490
    },
    "executionInfo": {
     "elapsed": 110,
     "status": "ok",
     "timestamp": 1753006757693,
     "user": {
      "displayName": "Lee Hetherington",
      "userId": "17699086544046018815"
     },
     "user_tz": -60
    },
    "id": "ZU5S5j3Hn4ed",
    "outputId": "d2cd256a-8c98-4775-adbc-c4df77d09795"
   },
   "outputs": [],
   "source": [
    "# Get the true labels and predicted probabilities for the positive class (MALIGNANT)\n",
    "y_true = augmented_test.classes\n",
    "y_pred_prob = y_prediction[:, 1]  # Get probabilities for the 'MALIGNANT' class\n",
    "\n",
    "# Calculate the AUC\n",
    "auc_score = auc(roc_curve(y_true, y_pred_prob)[0], roc_curve(y_true, y_pred_prob)[1])\n",
    "print(f'AUC: {auc_score:.4f}')\n",
    "\n",
    "# Plot the ROC curve\n",
    "fpr, tpr, thresholds = roc_curve(y_true, y_pred_prob)\n",
    "\n",
    "plt.figure()\n",
    "plt.plot(fpr, tpr, color='darkorange', lw=2, label='ROC curve (area = %0.2f)' % auc_score)\n",
    "plt.plot([0, 1], [0, 1], color='navy', lw=2, linestyle='--')\n",
    "plt.xlim([0.0, 1.0])\n",
    "plt.ylim([0.0, 1.05])\n",
    "plt.xlabel('False Positive Rate')\n",
    "plt.ylabel('True Positive Rate')\n",
    "plt.title('Receiver Operating Characteristic (ROC) Curve')\n",
    "plt.legend(loc=\"lower right\")\n",
    "plt.show()"
   ]
  },
  {
   "cell_type": "markdown",
   "id": "5b936d6b",
   "metadata": {
    "id": "5b936d6b"
   },
   "source": [
    "# Classification Report"
   ]
  },
  {
   "cell_type": "code",
   "execution_count": null,
   "id": "1bf52593",
   "metadata": {
    "colab": {
     "base_uri": "https://localhost:8080/",
     "height": 472
    },
    "executionInfo": {
     "elapsed": 117,
     "status": "ok",
     "timestamp": 1753006757810,
     "user": {
      "displayName": "Lee Hetherington",
      "userId": "17699086544046018815"
     },
     "user_tz": -60
    },
    "id": "1bf52593",
    "outputId": "7355617f-8cde-475b-c420-3098635b1b34"
   },
   "outputs": [],
   "source": [
    "# Visualize model history\n",
    "plt.plot(history.history['accuracy'], label='Training accuracy')\n",
    "plt.plot(history.history['val_accuracy'], label='Validation accuracy')\n",
    "plt.title('training / validation accuracies')\n",
    "plt.ylabel('Accuracy')\n",
    "plt.xlabel('Epoch')\n",
    "plt.legend(loc=\"upper left\")\n",
    "plt.show()"
   ]
  },
  {
   "cell_type": "code",
   "execution_count": null,
   "id": "3e77c05d",
   "metadata": {
    "colab": {
     "base_uri": "https://localhost:8080/",
     "height": 472
    },
    "executionInfo": {
     "elapsed": 165,
     "status": "ok",
     "timestamp": 1753006757976,
     "user": {
      "displayName": "Lee Hetherington",
      "userId": "17699086544046018815"
     },
     "user_tz": -60
    },
    "id": "3e77c05d",
    "outputId": "856e32da-0374-4a43-9a1c-4c90af0452aa"
   },
   "outputs": [],
   "source": [
    "plt.plot(history.history['loss'], label='Training loss')\n",
    "plt.plot(history.history['val_loss'], label='Validation loss')\n",
    "plt.title('ReLU training / validation loss values')\n",
    "plt.ylabel('Loss value')\n",
    "plt.xlabel('Epoch')\n",
    "plt.show()"
   ]
  }
 ],
 "metadata": {
  "accelerator": "GPU",
  "colab": {
   "gpuType": "T4",
   "provenance": []
  },
  "kaggle": {
   "accelerator": "gpu",
   "dataSources": [
    {
     "datasetId": 1115384,
     "sourceId": 1873742,
     "sourceType": "datasetVersion"
    }
   ],
   "dockerImageVersionId": 30588,
   "isGpuEnabled": true,
   "isInternetEnabled": true,
   "language": "python",
   "sourceType": "notebook"
  },
  "kernelspec": {
   "display_name": "Python 3 (ipykernel)",
   "language": "python",
   "name": "python3"
  },
  "language_info": {
   "codemirror_mode": {
    "name": "ipython",
    "version": 3
   },
   "file_extension": ".py",
   "mimetype": "text/x-python",
   "name": "python",
   "nbconvert_exporter": "python",
   "pygments_lexer": "ipython3",
   "version": "3.9.6"
  },
  "papermill": {
   "default_parameters": {},
   "duration": 545.777832,
   "end_time": "2024-03-04T08:38:49.975251",
   "environment_variables": {},
   "exception": null,
   "input_path": "__notebook__.ipynb",
   "output_path": "__notebook__.ipynb",
   "parameters": {},
   "start_time": "2024-03-04T08:29:44.197419",
   "version": "2.4.0"
  }
 },
 "nbformat": 4,
 "nbformat_minor": 5
}
